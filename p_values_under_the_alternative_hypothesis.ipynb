{
  "nbformat": 4,
  "nbformat_minor": 0,
  "metadata": {
    "colab": {
      "name": "p-values under the alternative hypothesis.ipynb",
      "provenance": [],
      "collapsed_sections": []
    },
    "kernelspec": {
      "name": "python3",
      "display_name": "Python 3"
    },
    "language_info": {
      "name": "python"
    }
  },
  "cells": [
    {
      "cell_type": "markdown",
      "source": [
        "It is well known that the distribution of p-values of a hypothesis test under the null hypothesis is uniform. We're interested in exploring the distribution of p-values in a hypothesis test when the alternative hypothesis is true. \n",
        "\n",
        "Apart from an interesting exercise, this information is useful when assessing the results of repeated measures hypothesis testings. That is, when we have one hypothesis that we test more than once for significance. It is expected that as the numer of realizations of the test statistic increases, some of them will show significant results, so one must always be careful when testing hypotheses repeatedly. If they follow a uniform distribution somewhat closely it's evidence in favor of the null. If they do not, assuming we know the distributions under the null and the alternative, we can analyze the distribution with a broader set of tools\n",
        "\n"
      ],
      "metadata": {
        "id": "muHVdO61Pzc6"
      }
    },
    {
      "cell_type": "markdown",
      "source": [
        "# Case 1: Sample mean"
      ],
      "metadata": {
        "id": "jNLmFcAZHZon"
      }
    },
    {
      "cell_type": "markdown",
      "source": [
        "We will now derive the distribution of P-values assuming the alternative hypothesis is true.\n",
        "\n",
        "Given samples from some population with known variance $\\sigma$, we're interested in the p-values of the following hypothesis:\n",
        "\n",
        "  \\begin{equation}\n",
        "    \\begin{cases}\n",
        "      H_0 : \\mu = 0 \\\\\n",
        "      H_1 : \\mu > 0\n",
        "    \\end{cases}\n",
        "  \\end{equation}\n",
        "\n",
        "This is a right-tail hypothesis which, given a realization of the sample mean with sample size $n$, has the statistic $T=\\sqrt{n}\\bar{x}/\\sigma$ under the null. The p-value is a one-to-one function of $T$,  $P=1-\\Phi(T)$ where $\\Phi(T)$ is the cumulative standard normal. \n",
        "\n",
        "Assuming the actual mean is $\\mu$ but the variance stays the same, define $\\delta = \\mu/\\sigma$, and derive a distribution of $P$ via the following auxiliary function, keeping in mind that $T$ has variance one and mean $\\delta\\sqrt{n}$:\n",
        "\n",
        "$$\n",
        "G(T) =\\textbf{P}(T \\leq \\Phi^{-1}(1-p)) = \\Phi_{\\delta\\sqrt{n}}(\\Phi(1-p))\n",
        "$$\n",
        "Then\n",
        "\n",
        "$$\n",
        "g(p) := \\frac{dG}{dp} = \\frac{\\phi(\\Phi^{-1}(1-p)-\\delta\\sqrt{n})}{\\phi(\\Phi^{-1}(1-p))}\n",
        "$$\n",
        "\n",
        "this $g(p)$ is the distribution of the p-values given the value of $\\delta$ and $n$. \n",
        "\n",
        "Notice how $g$ is uniform when $\\mu=0$, as expected. "
      ],
      "metadata": {
        "id": "GigZ9n_XHcYR"
      }
    },
    {
      "cell_type": "markdown",
      "source": [
        "This is all taken from a great paper: \n",
        "\n",
        "H. M. James Hung, Robert T. O'Neill, Peter Bauer and Karl Kohne (1997). The Behavior of the P-Value When the Alternative Hypothesis is True. Biometrics, 53(1), 11–22. doi:10.2307/2533093\n",
        "\n",
        "An extension of this for other statistics and use cases can be found in https://arxiv.org/pdf/2012.01697.pdf"
      ],
      "metadata": {
        "id": "_1IjTjN3Q2bm"
      }
    },
    {
      "cell_type": "code",
      "source": [
        "import numpy as np\n",
        "import matplotlib.pyplot as plt\n",
        "from scipy.stats import norm\n",
        "from scipy.stats import t as T\n",
        "import scipy\n",
        "import seaborn as sns"
      ],
      "metadata": {
        "id": "15ZGSJ5zWYSZ"
      },
      "execution_count": 109,
      "outputs": []
    },
    {
      "cell_type": "code",
      "source": [
        "class Population:\n",
        "  def __init__(self, mu, sigma, distribution):\n",
        "    \"\"\"\n",
        "    Takes the expected mean, standard deviation, \n",
        "    and distribution to sample from.\n",
        "    Distribution can be \"normal\" or \"uniform\", or \"chi2\" with \n",
        "    two degrees of freedom.\n",
        "    \"\"\"\n",
        "    self.mu = mu\n",
        "    self.sigma = sigma\n",
        "    self.dist = distribution\n",
        "\n",
        "  def sample(self, sample_size:int): \n",
        "    \"\"\"\n",
        "    Returns numpy array of samples \n",
        "    from the distribution of size sample_size \n",
        "    \"\"\"\n",
        "    if self.dist == \"normal\":\n",
        "      self.skew = 0\n",
        "      self.kurtosis = 3\n",
        "      return np.random.normal(loc= self.mu, scale = self.sigma,  size = sample_size)\n",
        "    if self.dist == \"uniform\":\n",
        "      a = self.mu - (np.sqrt(12)/2)*self.sigma\n",
        "      b = self.mu + (np.sqrt(12)/2)*self.sigma\n",
        "      self.skew = 0\n",
        "      self.kurtosis = 9/5\n",
        "      return np.random.uniform(low = a, high = b, size = sample_size)\n",
        "    if self.dist == \"chi2\":\n",
        "      #self.mu = 2\n",
        "      #self.sigma = 2\n",
        "      self.skew = 2\n",
        "      self.kurtosis = 9\n",
        "      return (np.random.chisquare(df=2, size = sample_size)-2)*(self.sigma/2)+self.mu"
      ],
      "metadata": {
        "id": "fd8MVRvaTbkg"
      },
      "execution_count": 83,
      "outputs": []
    },
    {
      "cell_type": "code",
      "source": [
        "def g_dist(p,delta, n):\n",
        "  Zp = norm.ppf(1-p)\n",
        "  return norm.pdf(Zp-delta*np.sqrt(n), loc=0, scale =1)/norm.pdf(Zp)"
      ],
      "metadata": {
        "id": "MXLgZwnGZkxs"
      },
      "execution_count": 3,
      "outputs": []
    },
    {
      "cell_type": "code",
      "source": [
        "population = Population(1, 4, \"normal\")"
      ],
      "metadata": {
        "id": "4t5wkZcnWeR3"
      },
      "execution_count": 27,
      "outputs": []
    },
    {
      "cell_type": "code",
      "source": [
        "np.random.seed(350) #we'll set a seed to be able to reproduce the results\n",
        "print(f'True population mean: {population.mu}')\n",
        "print(f'True population variance: {population.sigma}, this one we´ll count as given')"
      ],
      "metadata": {
        "id": "HC6pJCVWPQku",
        "colab": {
          "base_uri": "https://localhost:8080/"
        },
        "outputId": "cdf77e31-03e1-487e-ea6f-3cc710e9a43f"
      },
      "execution_count": 28,
      "outputs": [
        {
          "output_type": "stream",
          "name": "stdout",
          "text": [
            "True population mean: 1\n",
            "True population variance: 4, this one we´ll count as given\n"
          ]
        }
      ]
    },
    {
      "cell_type": "code",
      "source": [
        "population_samp = population.sample(5000)\n",
        "plt.hist(population_samp,  density = True, alpha = 0.7, bins=300)\n",
        "plt.title(\"Population sample example\")\n",
        "plt.axvline(x=population.mu)\n",
        "plt.plot()"
      ],
      "metadata": {
        "colab": {
          "base_uri": "https://localhost:8080/",
          "height": 298
        },
        "id": "aQVl0HM8XZYk",
        "outputId": "6a0e0aa4-dce3-48c7-d95d-64ad804cf16f"
      },
      "execution_count": 29,
      "outputs": [
        {
          "output_type": "execute_result",
          "data": {
            "text/plain": [
              "[]"
            ]
          },
          "metadata": {},
          "execution_count": 29
        },
        {
          "output_type": "display_data",
          "data": {
            "text/plain": [
              "<Figure size 432x288 with 1 Axes>"
            ],
            "image/png": "[encoded data removed]"
          },
          "metadata": {
            "needs_background": "light"
          }
        }
      ]
    },
    {
      "cell_type": "code",
      "source": [
        "# Now, given a sample, we want to calculate the T statistic and the p-value associated to it:\n",
        "sample_size = 50  #set sample size\n",
        "\n",
        "sample = population.sample(sample_size)  # generate sample\n",
        "sample_T = np.sqrt(sample_size)*np.mean(sample)/population.sigma  # compute statistic\n",
        "sample_pval = 1 - norm.cdf(sample_T) # compute p_value\n",
        "\n",
        "print(f'In this example, there´s a sample mean of {np.round(np.mean(sample),4)}, with an associated statistic of {np.round(sample_T, 4)} and a p-value of {np.round(sample_pval,4)}')"
      ],
      "metadata": {
        "colab": {
          "base_uri": "https://localhost:8080/"
        },
        "id": "KJcO4MyiXx_E",
        "outputId": "04cc2f91-0e3a-4f9e-91d6-3f6f63d28d5c"
      },
      "execution_count": 30,
      "outputs": [
        {
          "output_type": "stream",
          "name": "stdout",
          "text": [
            "In this example, there´s a sample mean of 0.4625, with an associated statistic of 0.8176 and a p-value of 0.2068\n"
          ]
        }
      ]
    },
    {
      "cell_type": "code",
      "source": [
        "# let's get this into a function with a loop for easy access:\n",
        "def sample_pvals(num_pvals, sample_size = 100, population = population):\n",
        "  PV = []\n",
        "  sampleT =[]\n",
        "  for i in range(num_pvals):\n",
        "    sample = population.sample(sample_size)\n",
        "    sample_T = np.mean(sample)/(population.sigma/np.sqrt(sample_size))\n",
        "    sample_pval = T.sf(sample_T, df=sample_size-1)\n",
        "    sampleT.append(sample_T)\n",
        "    PV.append(sample_pval)\n",
        "  return np.array(PV), np.array(sampleT)"
      ],
      "metadata": {
        "id": "gq2SJLMcbh7o"
      },
      "execution_count": 31,
      "outputs": []
    },
    {
      "cell_type": "code",
      "source": [
        "pvals, statistics = sample_pvals(5000, sample_size = sample_size)"
      ],
      "metadata": {
        "id": "caVD7aoZdDqc"
      },
      "execution_count": 32,
      "outputs": []
    },
    {
      "cell_type": "code",
      "source": [
        "# Let's plot the distribution of the p-values\n",
        "plt.hist(pvals, density = True, bins=200)\n",
        "plt.plot()"
      ],
      "metadata": {
        "colab": {
          "base_uri": "https://localhost:8080/",
          "height": 282
        },
        "id": "pABcI3BudKxp",
        "outputId": "915ef63a-87f5-4f4b-eb88-faa8bffd06ab"
      },
      "execution_count": 33,
      "outputs": [
        {
          "output_type": "execute_result",
          "data": {
            "text/plain": [
              "[]"
            ]
          },
          "metadata": {},
          "execution_count": 33
        },
        {
          "output_type": "display_data",
          "data": {
            "text/plain": [
              "<Figure size 432x288 with 1 Axes>"
            ],
            "image/png": "[encoded data removed]"
          },
          "metadata": {
            "needs_background": "light"
          }
        }
      ]
    },
    {
      "cell_type": "code",
      "source": [
        "# We'll do a sanity check to see if the test statistics are being distributed normally\n",
        "z_axis = np.linspace(np.min(statistics)-0.05,np.max(statistics)+0.05, num= 5000)\n",
        "z_val_dist = [norm.pdf(z, loc = np.sqrt(sample_size)/population.sigma, scale = 1) for z in z_axis]\n",
        "plt.hist(statistics, density = True, bins=100)\n",
        "plt.plot(z_axis, z_val_dist)\n",
        "plt.plot()"
      ],
      "metadata": {
        "colab": {
          "base_uri": "https://localhost:8080/",
          "height": 282
        },
        "id": "1-T38seXQWkP",
        "outputId": "4bf9ac7e-e717-49b3-c974-29ddb76dde2e"
      },
      "execution_count": 34,
      "outputs": [
        {
          "output_type": "execute_result",
          "data": {
            "text/plain": [
              "[]"
            ]
          },
          "metadata": {},
          "execution_count": 34
        },
        {
          "output_type": "display_data",
          "data": {
            "text/plain": [
              "<Figure size 432x288 with 1 Axes>"
            ],
            "image/png": "[encoded data removed]"
          },
          "metadata": {
            "needs_background": "light"
          }
        }
      ]
    },
    {
      "cell_type": "code",
      "source": [
        "# Let's overlay the histogram with the expected distribution g(p):\n",
        "p_axis = np.linspace(0.0025,np.max(pvals)+0.05, num= 100)\n",
        "p_val_dist = [g_dist(p, delta = population.mu/population.sigma, n = 100) for p in p_axis]"
      ],
      "metadata": {
        "id": "xmBIZ7iJ0MIP"
      },
      "execution_count": 107,
      "outputs": []
    },
    {
      "cell_type": "code",
      "source": [
        "plt.hist(pvals, density = True, bins=200)\n",
        "plt.plot(p_axis, p_val_dist)\n",
        "plt.plot()"
      ],
      "metadata": {
        "colab": {
          "base_uri": "https://localhost:8080/",
          "height": 282
        },
        "id": "HrVIopOxtATs",
        "outputId": "e315f6d8-e0b6-4292-88f9-ebee863ef688"
      },
      "execution_count": 108,
      "outputs": [
        {
          "output_type": "execute_result",
          "data": {
            "text/plain": [
              "[]"
            ]
          },
          "metadata": {},
          "execution_count": 108
        },
        {
          "output_type": "display_data",
          "data": {
            "text/plain": [
              "<Figure size 432x288 with 1 Axes>"
            ],
            "image/png": "[encoded data removed]"
          },
          "metadata": {
            "needs_background": "light"
          }
        }
      ]
    },
    {
      "cell_type": "markdown",
      "source": [
        "# Case 2: Sample mean with estimated variance\n",
        "\n",
        "Now that we know the expected distribution of the p-values, let's see what happens to the empirical distribution when we use an estimated variance from the sample variance:"
      ],
      "metadata": {
        "id": "yY7QDqsfO-8i"
      }
    },
    {
      "cell_type": "code",
      "source": [
        "population = Population(1, 4, \"normal\")\n",
        "sample_size = 20"
      ],
      "metadata": {
        "id": "OzFuTy0fbe8M"
      },
      "execution_count": 14,
      "outputs": []
    },
    {
      "cell_type": "code",
      "source": [
        "def sample_pvals_estimatedSD(num_pvals, sample_size = 100):\n",
        "  PV = []\n",
        "  sampleT =[]\n",
        "  for i in range(num_pvals):\n",
        "    sample = population.sample(sample_size)\n",
        "    sample_T = np.mean(sample)/(np.std(sample)/np.sqrt(sample_size))\n",
        "    sample_pval = T.sf(sample_T, df=sample_size-2)\n",
        "    sampleT.append(sample_T)\n",
        "    PV.append(sample_pval)\n",
        "  return np.array(PV), np.array(sampleT)"
      ],
      "metadata": {
        "id": "G6xeBSLDPaXW"
      },
      "execution_count": 15,
      "outputs": []
    },
    {
      "cell_type": "code",
      "source": [
        "pvals, statistics = sample_pvals_estimatedSD(5000, sample_size = sample_size)"
      ],
      "metadata": {
        "id": "73pRYM2yPwCj"
      },
      "execution_count": 16,
      "outputs": []
    },
    {
      "cell_type": "code",
      "source": [
        "p_axis = np.linspace(0.005,np.max(pvals)+0.05, num= 100)\n",
        "p_val_dist = [g_dist(p, delta = population.mu/population.sigma, n = 100) for p in p_axis]\n",
        "plt.hist(pvals, density = True, bins=200)\n",
        "plt.plot(p_axis, p_val_dist)\n",
        "plt.plot()"
      ],
      "metadata": {
        "colab": {
          "base_uri": "https://localhost:8080/",
          "height": 282
        },
        "id": "3zb7pZaEPwqA",
        "outputId": "dd94d6f4-c5b1-40c7-fedc-26f48a3544a4"
      },
      "execution_count": 17,
      "outputs": [
        {
          "output_type": "execute_result",
          "data": {
            "text/plain": [
              "[]"
            ]
          },
          "metadata": {},
          "execution_count": 17
        },
        {
          "output_type": "display_data",
          "data": {
            "text/plain": [
              "<Figure size 432x288 with 1 Axes>"
            ],
            "image/png": "[encoded data removed]"
          },
          "metadata": {
            "needs_background": "light"
          }
        }
      ]
    },
    {
      "cell_type": "markdown",
      "source": [
        "We can see the empirical distribution tends to reject less on these low sample sizes than what would be expected given that we knew the variance. \n",
        "\n",
        "This highlights the importance of sample size."
      ],
      "metadata": {
        "id": "tdpK6xrNQh34"
      }
    },
    {
      "cell_type": "markdown",
      "source": [
        "## Aside: Sample size and eternal rejection of the null"
      ],
      "metadata": {
        "id": "UwjL7HEcQu40"
      }
    },
    {
      "cell_type": "markdown",
      "source": [
        "This section is dedicated to highlighting the fact that a rejection of the null hypothesis does not signify a meaningful association between variables, particularly and specially in the large-n case.\n",
        "\n",
        "A lot of moden applications of data science use large amounts of data. This is good, on the one hand, because usually the assumptions of asymptotic normality of most statistics is much closer to being fulfilled. On the other, it allows us to reject lack of association in many instances where there is no meaning to that difference; i.e.: the effect size is small. This problem stems from a misinterpretation of the p-value: it only measures the probability of observing a result as the one sampled or more extreme, under the null hypothesis, and it does not say anything about the importance of such difference, let alone the 'truth' of that difference."
      ],
      "metadata": {
        "id": "5R5wWVKcRDXj"
      }
    },
    {
      "cell_type": "markdown",
      "source": [
        "Recalling $P = 1- \\Phi(T)$, and $T = \\sqrt{n}\\bar{x}/\\sigma$, assuming a rejection level of $\\alpha$, we would reject at said level for the following sample means:\n",
        "\n",
        "\\begin{align}\n",
        "\\alpha \\geq & \\> P = 1 - \\Phi(\\sqrt{n}\\bar{x}/\\sigma) \\\\\n",
        "\\Phi(\\sqrt{n}\\bar{x}/\\sigma) \\geq & \\> 1- \\alpha \\\\\n",
        "\\bar{x} \\geq & \\> \\Phi^{-1}(1- \\alpha)\\> \\frac{\\sigma}{\\sqrt{n}} \\propto n^{-1/2}\n",
        "\\end{align}\n",
        "\n",
        "Recall the null mean parameter is zero, so we are also seing the distance between the sample mean and the hypothesized mean. \n"
      ],
      "metadata": {
        "id": "3U9t2BOfSqhV"
      }
    },
    {
      "cell_type": "code",
      "source": [
        "means = []\n",
        "colors = []\n",
        "X = []\n",
        "levels = [{'alpha':0.05, 'color':'red'},{'alpha':0.01, 'color':'blue'},{'alpha':0.001, 'color':'green'}]\n",
        "samp_n = np.linspace(100,100000, num= 60)\n",
        "for case in levels:\n",
        "  for n in samp_n:\n",
        "    reject = norm.ppf(1-case['alpha'])\n",
        "    means.append(reject/np.sqrt(n))\n",
        "    colors.append(case['color'])\n",
        "    X.append(n)"
      ],
      "metadata": {
        "id": "2uusPTu8P6sI"
      },
      "execution_count": 110,
      "outputs": []
    },
    {
      "cell_type": "code",
      "source": [
        "sns.lineplot(x=X, y=means, hue=colors)\n",
        "plt.plot()"
      ],
      "metadata": {
        "colab": {
          "base_uri": "https://localhost:8080/",
          "height": 282
        },
        "id": "x0UtLcPwWJx6",
        "outputId": "a74df95f-f4a0-4c51-e885-bb454ec7efb7"
      },
      "execution_count": 112,
      "outputs": [
        {
          "output_type": "execute_result",
          "data": {
            "text/plain": [
              "[]"
            ]
          },
          "metadata": {},
          "execution_count": 112
        },
        {
          "output_type": "display_data",
          "data": {
            "text/plain": [
              "<Figure size 432x288 with 1 Axes>"
            ],
            "image/png": "[encoded data removed]"
          },
          "metadata": {
            "needs_background": "light"
          }
        }
      ]
    },
    {
      "cell_type": "markdown",
      "source": [
        "We can see here how, as a function of $n$, the difference required to reject the null hypothesis gets smaller and smaller, with the test being able to detect even the slightest differences from the null mean."
      ],
      "metadata": {
        "id": "eH3F-FC6CrPL"
      }
    }
  ]
}